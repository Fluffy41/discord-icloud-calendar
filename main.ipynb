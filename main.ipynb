{
 "cells": [
  {
   "cell_type": "code",
   "id": "initial_id",
   "metadata": {
    "collapsed": true,
    "ExecuteTime": {
     "end_time": "2024-07-01T14:09:33.115530Z",
     "start_time": "2024-07-01T14:09:30.605734Z"
    }
   },
   "source": [
    "import logging\n",
    "from caldav import DAVClient\n",
    "import dotenv\n",
    "import os\n",
    "import datetime\n",
    "from icalendar import Calendar\n",
    "\n",
    "# Configure logging\n",
    "logging.basicConfig(filename='app.log', filemode='w', format='%(name)s - %(levelname)s - %(message)s',\n",
    "                    level=logging.DEBUG)\n",
    "\n",
    "dotenv.load_dotenv()\n",
    "\n",
    "# iCloud calDAV URL\n",
    "url = \"https://caldav.icloud.com\"\n",
    "\n",
    "# iCloud username and password\n",
    "username = os.getenv(\"ICLOUD_USERNAME\")\n",
    "password = os.getenv(\"ICLOUD_PASSWORD\")\n",
    "\n",
    "# Create a DAV client\n",
    "davClient = DAVClient(url, username=username, password=password)\n",
    "\n",
    "# Access your calendars\n",
    "principal = davClient.principal()\n",
    "calendars = principal.calendars()\n",
    "\n",
    "def event_list(calendar_name: str, till_days: int):\n",
    "    logging.info(f'Executing event_list command for calendar: {calendar_name} and days: {till_days}')\n",
    "    print(f'Executing event_list command for calendar: {calendar_name} and days: {till_days}')\n",
    "    calendar = [calendar for calendar in calendars if calendar.name == calendar_name][0]\n",
    "\n",
    "    start_date = datetime.datetime.now()\n",
    "    end_date = start_date + datetime.timedelta(days=till_days)\n",
    "\n",
    "    print(f\"Calendar: {calendar}\")\n",
    "\n",
    "    events = calendar.date_search(start_date, end_date)\n",
    "    \n",
    "    print(f\"Events: {events}\")\n",
    "\n",
    "    events_list = []\n",
    "    for event in events:\n",
    "\n",
    "        event = Calendar.from_ical(event.data)\n",
    "        \n",
    "        #print(f\"Events edited: {event}\")\n",
    "\n",
    "        for component in event.walk():\n",
    "            if component.name == \"VEVENT\":\n",
    "                event_name = component.get('summary')\n",
    "                event_start = component.get('dtstart').dt\n",
    "                event_end = component.get('dtend').dt\n",
    "                events_list.append((event_name, event_start, event_end))\n",
    "\n",
    "        unix_timestamp_start = int(event_start.timestamp())\n",
    "        unix_timestamp_end = int(event_end.timestamp())\n",
    "        \n",
    "    print(event_name)\n",
    "    print(event_start)\n",
    "    print(event_end)\n",
    "\n",
    "    events_list_beautiful = f\"Upcoming events in {calendar_name}:\\n {event_name} \\n begins in <t:{unix_timestamp_start}:R> \\n <t:{unix_timestamp_start}:f> - <t:{unix_timestamp_end}:f> \\n\\n\"\n",
    "\n",
    "    print(events_list_beautiful)\n",
    "\n",
    "    return events_list_beautiful\n",
    "\n",
    "event_list('Privat', 1)"
   ],
   "outputs": [
    {
     "name": "stdout",
     "output_type": "stream",
     "text": [
      "Executing event_list command for calendar: Privat and days: 1\n",
      "Calendar: Privat\n",
      "Events: [Event(https://p58-caldav.icloud.com:443/20169463640/calendars/A6BAA348-26F1-4B9A-AB2B-58E58E41D21C/72EA3FC2-79EA-4FCA-A8B5-6F2C1D468AA1.ics)]\n",
      "Yannis Vorstellungsgespräch \n",
      "2024-07-02 09:45:00+02:00\n",
      "2024-07-02 10:45:00+02:00\n",
      "Upcoming events in Privat:\n",
      " Yannis Vorstellungsgespräch  \n",
      " begins in <t:1719906300:R> \n",
      " <t:1719906300:f> - <t:1719909900:f> \n",
      "\n",
      "\n"
     ]
    },
    {
     "data": {
      "text/plain": [
       "'Upcoming events in Privat:\\n Yannis Vorstellungsgespräch  \\n begins in <t:1719906300:R> \\n <t:1719906300:f> - <t:1719909900:f> \\n\\n'"
      ]
     },
     "execution_count": 14,
     "metadata": {},
     "output_type": "execute_result"
    }
   ],
   "execution_count": 14
  },
  {
   "metadata": {},
   "cell_type": "code",
   "outputs": [],
   "execution_count": null,
   "source": "",
   "id": "10e44a3f4a50e0fe"
  }
 ],
 "metadata": {
  "kernelspec": {
   "display_name": "Python 3",
   "language": "python",
   "name": "python3"
  },
  "language_info": {
   "codemirror_mode": {
    "name": "ipython",
    "version": 2
   },
   "file_extension": ".py",
   "mimetype": "text/x-python",
   "name": "python",
   "nbconvert_exporter": "python",
   "pygments_lexer": "ipython2",
   "version": "2.7.6"
  }
 },
 "nbformat": 4,
 "nbformat_minor": 5
}
